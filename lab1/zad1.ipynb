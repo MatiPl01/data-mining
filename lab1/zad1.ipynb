{
 "cells": [
  {
   "cell_type": "markdown",
   "metadata": {},
   "source": [
    "# Analiza zbioru danych New York Times"
   ]
  },
  {
   "cell_type": "code",
   "execution_count": 11,
   "metadata": {},
   "outputs": [],
   "source": [
    "import pandas as pd\n",
    "import numpy as np\n",
    "from sklearn.decomposition import PCA"
   ]
  },
  {
   "cell_type": "code",
   "execution_count": 12,
   "metadata": {},
   "outputs": [],
   "source": [
    "import os\n",
    "\n",
    "if not os.getcwd().endswith('lab1'):\n",
    "    os.chdir('./lab1')"
   ]
  },
  {
   "cell_type": "markdown",
   "metadata": {},
   "source": [
    "## Importowanie danych"
   ]
  },
  {
   "cell_type": "code",
   "execution_count": 13,
   "metadata": {},
   "outputs": [],
   "source": [
    "df = pd.read_csv('./data/nyt-frame.csv', header=0)\n",
    "data = df.iloc[:,9:]\n",
    "array = data.values"
   ]
  },
  {
   "cell_type": "code",
   "execution_count": 14,
   "metadata": {},
   "outputs": [
    {
     "data": {
      "text/html": [
       "<div>\n",
       "<style scoped>\n",
       "    .dataframe tbody tr th:only-of-type {\n",
       "        vertical-align: middle;\n",
       "    }\n",
       "\n",
       "    .dataframe tbody tr th {\n",
       "        vertical-align: top;\n",
       "    }\n",
       "\n",
       "    .dataframe thead th {\n",
       "        text-align: right;\n",
       "    }\n",
       "</style>\n",
       "<table border=\"1\" class=\"dataframe\">\n",
       "  <thead>\n",
       "    <tr style=\"text-align: right;\">\n",
       "      <th></th>\n",
       "      <th>Unnamed: 0</th>\n",
       "      <th>class.labels</th>\n",
       "      <th>X.</th>\n",
       "      <th>X.d</th>\n",
       "      <th>X.nd</th>\n",
       "      <th>X.s</th>\n",
       "      <th>X.th</th>\n",
       "      <th>X.this</th>\n",
       "      <th>a</th>\n",
       "      <th>abandoned</th>\n",
       "      <th>...</th>\n",
       "      <th>yorkers</th>\n",
       "      <th>yorks</th>\n",
       "      <th>you</th>\n",
       "      <th>young</th>\n",
       "      <th>younger</th>\n",
       "      <th>your</th>\n",
       "      <th>youre</th>\n",
       "      <th>youth</th>\n",
       "      <th>youthful</th>\n",
       "      <th>yu</th>\n",
       "    </tr>\n",
       "  </thead>\n",
       "  <tbody>\n",
       "    <tr>\n",
       "      <th>0</th>\n",
       "      <td>1</td>\n",
       "      <td>art</td>\n",
       "      <td>0.008707</td>\n",
       "      <td>0.0</td>\n",
       "      <td>0.0</td>\n",
       "      <td>0.000000</td>\n",
       "      <td>0.009251</td>\n",
       "      <td>0.0</td>\n",
       "      <td>0.007564</td>\n",
       "      <td>0.0</td>\n",
       "      <td>...</td>\n",
       "      <td>0.000000</td>\n",
       "      <td>0.0</td>\n",
       "      <td>0.000000</td>\n",
       "      <td>0.000000</td>\n",
       "      <td>0.0</td>\n",
       "      <td>0.000000</td>\n",
       "      <td>0.0</td>\n",
       "      <td>0.0</td>\n",
       "      <td>0.0</td>\n",
       "      <td>0.0</td>\n",
       "    </tr>\n",
       "    <tr>\n",
       "      <th>1</th>\n",
       "      <td>2</td>\n",
       "      <td>art</td>\n",
       "      <td>0.005848</td>\n",
       "      <td>0.0</td>\n",
       "      <td>0.0</td>\n",
       "      <td>0.000000</td>\n",
       "      <td>0.000000</td>\n",
       "      <td>0.0</td>\n",
       "      <td>0.001418</td>\n",
       "      <td>0.0</td>\n",
       "      <td>...</td>\n",
       "      <td>0.000000</td>\n",
       "      <td>0.0</td>\n",
       "      <td>0.000000</td>\n",
       "      <td>0.000000</td>\n",
       "      <td>0.0</td>\n",
       "      <td>0.000000</td>\n",
       "      <td>0.0</td>\n",
       "      <td>0.0</td>\n",
       "      <td>0.0</td>\n",
       "      <td>0.0</td>\n",
       "    </tr>\n",
       "    <tr>\n",
       "      <th>2</th>\n",
       "      <td>3</td>\n",
       "      <td>art</td>\n",
       "      <td>0.016036</td>\n",
       "      <td>0.0</td>\n",
       "      <td>0.0</td>\n",
       "      <td>0.011403</td>\n",
       "      <td>0.000000</td>\n",
       "      <td>0.0</td>\n",
       "      <td>0.010063</td>\n",
       "      <td>0.0</td>\n",
       "      <td>...</td>\n",
       "      <td>0.000000</td>\n",
       "      <td>0.0</td>\n",
       "      <td>0.000000</td>\n",
       "      <td>0.000000</td>\n",
       "      <td>0.0</td>\n",
       "      <td>0.000000</td>\n",
       "      <td>0.0</td>\n",
       "      <td>0.0</td>\n",
       "      <td>0.0</td>\n",
       "      <td>0.0</td>\n",
       "    </tr>\n",
       "    <tr>\n",
       "      <th>3</th>\n",
       "      <td>4</td>\n",
       "      <td>art</td>\n",
       "      <td>0.026415</td>\n",
       "      <td>0.0</td>\n",
       "      <td>0.0</td>\n",
       "      <td>0.000000</td>\n",
       "      <td>0.000000</td>\n",
       "      <td>0.0</td>\n",
       "      <td>0.008677</td>\n",
       "      <td>0.0</td>\n",
       "      <td>...</td>\n",
       "      <td>0.000000</td>\n",
       "      <td>0.0</td>\n",
       "      <td>0.000000</td>\n",
       "      <td>0.000000</td>\n",
       "      <td>0.0</td>\n",
       "      <td>0.000000</td>\n",
       "      <td>0.0</td>\n",
       "      <td>0.0</td>\n",
       "      <td>0.0</td>\n",
       "      <td>0.0</td>\n",
       "    </tr>\n",
       "    <tr>\n",
       "      <th>4</th>\n",
       "      <td>5</td>\n",
       "      <td>art</td>\n",
       "      <td>0.007285</td>\n",
       "      <td>0.0</td>\n",
       "      <td>0.0</td>\n",
       "      <td>0.011008</td>\n",
       "      <td>0.000000</td>\n",
       "      <td>0.0</td>\n",
       "      <td>0.008390</td>\n",
       "      <td>0.0</td>\n",
       "      <td>...</td>\n",
       "      <td>0.000000</td>\n",
       "      <td>0.0</td>\n",
       "      <td>0.048151</td>\n",
       "      <td>0.000000</td>\n",
       "      <td>0.0</td>\n",
       "      <td>0.000000</td>\n",
       "      <td>0.0</td>\n",
       "      <td>0.0</td>\n",
       "      <td>0.0</td>\n",
       "      <td>0.0</td>\n",
       "    </tr>\n",
       "    <tr>\n",
       "      <th>...</th>\n",
       "      <td>...</td>\n",
       "      <td>...</td>\n",
       "      <td>...</td>\n",
       "      <td>...</td>\n",
       "      <td>...</td>\n",
       "      <td>...</td>\n",
       "      <td>...</td>\n",
       "      <td>...</td>\n",
       "      <td>...</td>\n",
       "      <td>...</td>\n",
       "      <td>...</td>\n",
       "      <td>...</td>\n",
       "      <td>...</td>\n",
       "      <td>...</td>\n",
       "      <td>...</td>\n",
       "      <td>...</td>\n",
       "      <td>...</td>\n",
       "      <td>...</td>\n",
       "      <td>...</td>\n",
       "      <td>...</td>\n",
       "      <td>...</td>\n",
       "    </tr>\n",
       "    <tr>\n",
       "      <th>97</th>\n",
       "      <td>98</td>\n",
       "      <td>music</td>\n",
       "      <td>0.006929</td>\n",
       "      <td>0.0</td>\n",
       "      <td>0.0</td>\n",
       "      <td>0.000000</td>\n",
       "      <td>0.000000</td>\n",
       "      <td>0.0</td>\n",
       "      <td>0.005600</td>\n",
       "      <td>0.0</td>\n",
       "      <td>...</td>\n",
       "      <td>0.000000</td>\n",
       "      <td>0.0</td>\n",
       "      <td>0.024425</td>\n",
       "      <td>0.000000</td>\n",
       "      <td>0.0</td>\n",
       "      <td>0.000000</td>\n",
       "      <td>0.0</td>\n",
       "      <td>0.0</td>\n",
       "      <td>0.0</td>\n",
       "      <td>0.0</td>\n",
       "    </tr>\n",
       "    <tr>\n",
       "      <th>98</th>\n",
       "      <td>99</td>\n",
       "      <td>music</td>\n",
       "      <td>0.111882</td>\n",
       "      <td>0.0</td>\n",
       "      <td>0.0</td>\n",
       "      <td>0.000000</td>\n",
       "      <td>0.000000</td>\n",
       "      <td>0.0</td>\n",
       "      <td>0.003716</td>\n",
       "      <td>0.0</td>\n",
       "      <td>...</td>\n",
       "      <td>0.000000</td>\n",
       "      <td>0.0</td>\n",
       "      <td>0.000000</td>\n",
       "      <td>0.000000</td>\n",
       "      <td>0.0</td>\n",
       "      <td>0.000000</td>\n",
       "      <td>0.0</td>\n",
       "      <td>0.0</td>\n",
       "      <td>0.0</td>\n",
       "      <td>0.0</td>\n",
       "    </tr>\n",
       "    <tr>\n",
       "      <th>99</th>\n",
       "      <td>100</td>\n",
       "      <td>music</td>\n",
       "      <td>0.006550</td>\n",
       "      <td>0.0</td>\n",
       "      <td>0.0</td>\n",
       "      <td>0.000000</td>\n",
       "      <td>0.000000</td>\n",
       "      <td>0.0</td>\n",
       "      <td>0.009301</td>\n",
       "      <td>0.0</td>\n",
       "      <td>...</td>\n",
       "      <td>0.000000</td>\n",
       "      <td>0.0</td>\n",
       "      <td>0.029686</td>\n",
       "      <td>0.015659</td>\n",
       "      <td>0.0</td>\n",
       "      <td>0.026605</td>\n",
       "      <td>0.0</td>\n",
       "      <td>0.0</td>\n",
       "      <td>0.0</td>\n",
       "      <td>0.0</td>\n",
       "    </tr>\n",
       "    <tr>\n",
       "      <th>100</th>\n",
       "      <td>101</td>\n",
       "      <td>music</td>\n",
       "      <td>0.009497</td>\n",
       "      <td>0.0</td>\n",
       "      <td>0.0</td>\n",
       "      <td>0.000000</td>\n",
       "      <td>0.040362</td>\n",
       "      <td>0.0</td>\n",
       "      <td>0.003070</td>\n",
       "      <td>0.0</td>\n",
       "      <td>...</td>\n",
       "      <td>0.000000</td>\n",
       "      <td>0.0</td>\n",
       "      <td>0.066953</td>\n",
       "      <td>0.000000</td>\n",
       "      <td>0.0</td>\n",
       "      <td>0.000000</td>\n",
       "      <td>0.0</td>\n",
       "      <td>0.0</td>\n",
       "      <td>0.0</td>\n",
       "      <td>0.0</td>\n",
       "    </tr>\n",
       "    <tr>\n",
       "      <th>101</th>\n",
       "      <td>102</td>\n",
       "      <td>music</td>\n",
       "      <td>0.015930</td>\n",
       "      <td>0.0</td>\n",
       "      <td>0.0</td>\n",
       "      <td>0.000000</td>\n",
       "      <td>0.029016</td>\n",
       "      <td>0.0</td>\n",
       "      <td>0.007172</td>\n",
       "      <td>0.0</td>\n",
       "      <td>...</td>\n",
       "      <td>0.109546</td>\n",
       "      <td>0.0</td>\n",
       "      <td>0.000000</td>\n",
       "      <td>0.038083</td>\n",
       "      <td>0.0</td>\n",
       "      <td>0.064705</td>\n",
       "      <td>0.0</td>\n",
       "      <td>0.0</td>\n",
       "      <td>0.0</td>\n",
       "      <td>0.0</td>\n",
       "    </tr>\n",
       "  </tbody>\n",
       "</table>\n",
       "<p>102 rows × 4433 columns</p>\n",
       "</div>"
      ],
      "text/plain": [
       "     Unnamed: 0 class.labels        X.  X.d  X.nd       X.s      X.th  X.this  \\\n",
       "0             1          art  0.008707  0.0   0.0  0.000000  0.009251     0.0   \n",
       "1             2          art  0.005848  0.0   0.0  0.000000  0.000000     0.0   \n",
       "2             3          art  0.016036  0.0   0.0  0.011403  0.000000     0.0   \n",
       "3             4          art  0.026415  0.0   0.0  0.000000  0.000000     0.0   \n",
       "4             5          art  0.007285  0.0   0.0  0.011008  0.000000     0.0   \n",
       "..          ...          ...       ...  ...   ...       ...       ...     ...   \n",
       "97           98        music  0.006929  0.0   0.0  0.000000  0.000000     0.0   \n",
       "98           99        music  0.111882  0.0   0.0  0.000000  0.000000     0.0   \n",
       "99          100        music  0.006550  0.0   0.0  0.000000  0.000000     0.0   \n",
       "100         101        music  0.009497  0.0   0.0  0.000000  0.040362     0.0   \n",
       "101         102        music  0.015930  0.0   0.0  0.000000  0.029016     0.0   \n",
       "\n",
       "            a  abandoned  ...   yorkers  yorks       you     young  younger  \\\n",
       "0    0.007564        0.0  ...  0.000000    0.0  0.000000  0.000000      0.0   \n",
       "1    0.001418        0.0  ...  0.000000    0.0  0.000000  0.000000      0.0   \n",
       "2    0.010063        0.0  ...  0.000000    0.0  0.000000  0.000000      0.0   \n",
       "3    0.008677        0.0  ...  0.000000    0.0  0.000000  0.000000      0.0   \n",
       "4    0.008390        0.0  ...  0.000000    0.0  0.048151  0.000000      0.0   \n",
       "..        ...        ...  ...       ...    ...       ...       ...      ...   \n",
       "97   0.005600        0.0  ...  0.000000    0.0  0.024425  0.000000      0.0   \n",
       "98   0.003716        0.0  ...  0.000000    0.0  0.000000  0.000000      0.0   \n",
       "99   0.009301        0.0  ...  0.000000    0.0  0.029686  0.015659      0.0   \n",
       "100  0.003070        0.0  ...  0.000000    0.0  0.066953  0.000000      0.0   \n",
       "101  0.007172        0.0  ...  0.109546    0.0  0.000000  0.038083      0.0   \n",
       "\n",
       "         your  youre  youth  youthful   yu  \n",
       "0    0.000000    0.0    0.0       0.0  0.0  \n",
       "1    0.000000    0.0    0.0       0.0  0.0  \n",
       "2    0.000000    0.0    0.0       0.0  0.0  \n",
       "3    0.000000    0.0    0.0       0.0  0.0  \n",
       "4    0.000000    0.0    0.0       0.0  0.0  \n",
       "..        ...    ...    ...       ...  ...  \n",
       "97   0.000000    0.0    0.0       0.0  0.0  \n",
       "98   0.000000    0.0    0.0       0.0  0.0  \n",
       "99   0.026605    0.0    0.0       0.0  0.0  \n",
       "100  0.000000    0.0    0.0       0.0  0.0  \n",
       "101  0.064705    0.0    0.0       0.0  0.0  \n",
       "\n",
       "[102 rows x 4433 columns]"
      ]
     },
     "execution_count": 14,
     "metadata": {},
     "output_type": "execute_result"
    }
   ],
   "source": [
    "df"
   ]
  },
  {
   "cell_type": "markdown",
   "metadata": {},
   "source": [
    "## Przykładowe 20 wybranych elementów słownika (nagłówków kolumn)"
   ]
  },
  {
   "cell_type": "code",
   "execution_count": 5,
   "metadata": {},
   "outputs": [
    {
     "name": "stdout",
     "output_type": "stream",
     "text": [
      "['goal' 'opposite' 'wouldnt' 'relative' 'pablo' 'enough' 'tenor'\n",
      " 'matching' 'writers' 'smoke' 'picked' 'sports' 'choreographed'\n",
      " 'recurring' 'founded' 'disk' 'accents' 'authorities' 'dinner' 'still']\n"
     ]
    }
   ],
   "source": [
    "header = list(df.columns.values[9:])\n",
    "sample_word = np.random.choice(header, 20, replace=False)\n",
    "print(sample_word)"
   ]
  },
  {
   "cell_type": "markdown",
   "metadata": {},
   "source": [
    "## Transformacja PCA"
   ]
  },
  {
   "cell_type": "code",
   "execution_count": 6,
   "metadata": {},
   "outputs": [],
   "source": [
    "pca = PCA(svd_solver='arpack')\n",
    "X_pca = pca.fit_transform(array)"
   ]
  },
  {
   "cell_type": "markdown",
   "metadata": {},
   "source": [
    "## Elementy 1. komponentu wiodącego"
   ]
  },
  {
   "cell_type": "code",
   "execution_count": 7,
   "metadata": {},
   "outputs": [],
   "source": [
    "indexes_sorted = np.argsort(pca.components_[0])"
   ]
  },
  {
   "cell_type": "markdown",
   "metadata": {},
   "source": [
    "### 15 elementów o największej wartości"
   ]
  },
  {
   "cell_type": "markdown",
   "metadata": {},
   "source": [
    "Jak widzimy, 15 elementów o największej wartości odpowiada słowom, które najbliżej są skojarzone ze sztuką, a także zaimkom osobowym."
   ]
  },
  {
   "cell_type": "code",
   "execution_count": 8,
   "metadata": {},
   "outputs": [
    {
     "name": "stdout",
     "output_type": "stream",
     "text": [
      "me\n",
      "he\n",
      "mrs\n",
      "im\n",
      "paintings\n",
      "process\n",
      "painting\n",
      "my\n",
      "cooper\n",
      "mother\n",
      "said\n",
      "i\n",
      "ms\n",
      "her\n",
      "she\n"
     ]
    }
   ],
   "source": [
    "print(*np.array(header)[indexes_sorted[-15:]], sep='\\n')"
   ]
  },
  {
   "cell_type": "markdown",
   "metadata": {},
   "source": [
    "### 15 elements with o najmniejszej wartości"
   ]
  },
  {
   "cell_type": "markdown",
   "metadata": {},
   "source": [
    "Jak widzimy, 15 elementów o najmniejszej wartości stanowią głównie słowa związane ze sztuką oraz z muzyką."
   ]
  },
  {
   "cell_type": "code",
   "execution_count": 9,
   "metadata": {},
   "outputs": [
    {
     "name": "stdout",
     "output_type": "stream",
     "text": [
      "music\n",
      "trio\n",
      "theater\n",
      "orchestra\n",
      "composers\n",
      "opera\n",
      "theaters\n",
      "m\n",
      "program\n",
      "players\n",
      "festival\n",
      "east\n",
      "y\n",
      "jersey\n",
      "symphony\n"
     ]
    }
   ],
   "source": [
    "print(*np.array(header)[indexes_sorted[:15]], sep='\\n')"
   ]
  },
  {
   "cell_type": "markdown",
   "metadata": {},
   "source": [
    "## Elementy 2. komponentu wiodącego"
   ]
  },
  {
   "cell_type": "code",
   "execution_count": 10,
   "metadata": {},
   "outputs": [],
   "source": [
    "indexes_sorted2 = np.argsort(pca.components_[1])"
   ]
  },
  {
   "cell_type": "markdown",
   "metadata": {},
   "source": [
    "### 15 elementów o największej wartości"
   ]
  },
  {
   "cell_type": "markdown",
   "metadata": {},
   "source": [
    "Jak widać, są to słowa związane głównie z muzyką (w mniejszym stopniu ze sztuką, a także mamy kilka zaimków osobowych)."
   ]
  },
  {
   "cell_type": "code",
   "execution_count": 13,
   "metadata": {},
   "outputs": [
    {
     "name": "stdout",
     "output_type": "stream",
     "text": [
      "vocal\n",
      "orchestra\n",
      "songs\n",
      "musical\n",
      "music\n",
      "festival\n",
      "production\n",
      "sang\n",
      "hour\n",
      "i\n",
      "ms\n",
      "opera\n",
      "theater\n",
      "she\n",
      "her\n"
     ]
    }
   ],
   "source": [
    "print(*np.array(header)[indexes_sorted2[-15:]], sep='\\n')"
   ]
  },
  {
   "cell_type": "markdown",
   "metadata": {},
   "source": [
    "### 15 elementów o najmniejszej wartości"
   ]
  },
  {
   "cell_type": "markdown",
   "metadata": {},
   "source": [
    "Elementy o najmniejszej wartości są już widocznie związane ze sztuką."
   ]
  },
  {
   "cell_type": "code",
   "execution_count": 14,
   "metadata": {},
   "outputs": [
    {
     "name": "stdout",
     "output_type": "stream",
     "text": [
      "art\n",
      "museum\n",
      "images\n",
      "artists\n",
      "donations\n",
      "museums\n",
      "painting\n",
      "tax\n",
      "paintings\n",
      "sculpture\n",
      "gallery\n",
      "sculptures\n",
      "painted\n",
      "white\n",
      "service\n"
     ]
    }
   ],
   "source": [
    "print(*np.array(header)[indexes_sorted2[:15]], sep='\\n')"
   ]
  },
  {
   "cell_type": "markdown",
   "metadata": {},
   "source": [
    "Otrzymany wynik pokazuje, że pierwsza składowa jest związana z tematyką kultury (sztuka oraz muzyka), gdzie po jednej stronie osi dominują elementy związane ze sztuką, a po drugiej, elementy związane z muzyką oraz ze sztuką. Druga składowa już w sposób bardziej jednoznaczny rozgranicza elementy związane ze sztuką i elementy związane z muzyką. Po jednej stronie osi jest znacznie więcej słów, dotyczących sztuki, a po drugiej - muzyki."
   ]
  },
  {
   "cell_type": "markdown",
   "metadata": {},
   "source": [
    "## Wizualizacja wektorów cech zrzutowanych na 2 pierwsze komponenty wiodące"
   ]
  },
  {
   "cell_type": "markdown",
   "metadata": {},
   "source": [
    "Poniższy wykres w graficzny sposób przedstawia nasze powyższe obserwacje. Widzimy, że naszej pierwszej składowej (1. komponentowi) odpowiada oś pozioma (X), natomiast drugiej składowej (2. komponentowi) - oś pionowa (Y)."
   ]
  },
  {
   "cell_type": "code",
   "execution_count": 15,
   "metadata": {},
   "outputs": [
    {
     "data": {
      "image/png": "[encoded data removed]",
      "text/plain": [
       "<Figure size 640x480 with 1 Axes>"
      ]
     },
     "metadata": {},
     "output_type": "display_data"
    }
   ],
   "source": [
    "import matplotlib.pyplot as plt\n",
    "\n",
    "reds = df['class.labels'] == 'art'\n",
    "blues = df['class.labels'] == 'music'\n",
    "\n",
    "plt.figure()\n",
    "plt.scatter(X_pca[np.array(reds), 0], X_pca[np.array(reds), 1], c=\"red\")\n",
    "plt.scatter(X_pca[np.array(blues), 0], X_pca[np.array(blues), 1], c=\"blue\")\n",
    "plt.title(\"Projection by PCA\")\n",
    "plt.xlabel(\"1st component\")\n",
    "plt.ylabel(\"2nd component\")\n",
    "plt.legend([\"art\", \"music\"])\n",
    "plt.show()"
   ]
  },
  {
   "cell_type": "markdown",
   "metadata": {},
   "source": [
    "## Wykres zależności wariancji od numeru kierunku wiodącego $k$"
   ]
  },
  {
   "cell_type": "code",
   "execution_count": 17,
   "metadata": {},
   "outputs": [
    {
     "data": {
      "image/png": "[encoded data removed]",
      "text/plain": [
       "<Figure size 640x480 with 1 Axes>"
      ]
     },
     "metadata": {},
     "output_type": "display_data"
    },
    {
     "name": "stdout",
     "output_type": "stream",
     "text": [
      "0.15773478029003477\n"
     ]
    }
   ],
   "source": [
    "variance_ratio = pca.explained_variance_ratio_\n",
    "plt.plot(variance_ratio, 'ro')\n",
    "plt.show()\n",
    "print(sum(variance_ratio[0:10]))"
   ]
  },
  {
   "cell_type": "markdown",
   "metadata": {},
   "source": [
    "Jak widzimy, w przypadku zbioru słów, który analizujemy, 10 pierwszych komponentów zachowuje jedynie niecałe 16% wariancji. Oznacza to, że w przypadku tego zbioru słów, PCA nie jest w stanie zbyt dobrze zredukować wymiarowości."
   ]
  }
 ],
 "metadata": {
  "kernelspec": {
   "display_name": "base",
   "language": "python",
   "name": "python3"
  },
  "language_info": {
   "codemirror_mode": {
    "name": "ipython",
    "version": 3
   },
   "file_extension": ".py",
   "mimetype": "text/x-python",
   "name": "python",
   "nbconvert_exporter": "python",
   "pygments_lexer": "ipython3",
   "version": "3.12.2"
  }
 },
 "nbformat": 4,
 "nbformat_minor": 2
}
